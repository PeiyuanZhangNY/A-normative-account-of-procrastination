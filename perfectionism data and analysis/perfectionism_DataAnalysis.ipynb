{
 "cells": [
  {
   "cell_type": "code",
   "execution_count": 22,
   "metadata": {},
   "outputs": [],
   "source": [
    "import pandas as pd\n",
    "import numpy as np\n",
    "import matplotlib.pyplot as plt\n",
    "from scipy import stats\n",
    "import math\n",
    "import seaborn as sns # for data visualization\n",
    "import pickle\n",
    "import statistics\n",
    "import statsmodels.api as sm # linear regression\n",
    "import statsmodels.formula.api as smf\n",
    "from statsmodels.formula.api import ols\n",
    "from statsmodels.stats.proportion import proportions_ztest #proportion z score test\n",
    "import pingouin as pg\n",
    "from scipy.special import logit, expit\n",
    "from scipy.stats import chi2_contingency"
   ]
  },
  {
   "cell_type": "code",
   "execution_count": 25,
   "metadata": {},
   "outputs": [
    {
     "name": "stdout",
     "output_type": "stream",
     "text": [
      "Index(['subject', 'age', 'race', 'race_other', 'gender', 'gender_other',\n",
      "       'year in college', 'PS_1', 'PS_2', 'PS_3', '7-PS_3+1', 'PS_4',\n",
      "       '7-PS_4+1', 'PS_5', 'PS_6', 'PS_7', 'PS_8', 'PS_9', 'PS_10', 'PS_11',\n",
      "       'PS_12', '7-PS_12+1', 'PS_13', '7-PS_13+1', 'PS_14', 'PS_15',\n",
      "       'score of scale', 'satisfaction_1', 'satisfaction_2', 'satisfaction_3',\n",
      "       'satisfaction_4', 'satisfaction_5', 'satisfaction_6',\n",
      "       'log_exponent_fit', 'm', 'pred_satis_effort1', 'pred_satis_effort2',\n",
      "       'pred_satis_effort3', 'pred_satis_effort4', 'pred_satis_effort5',\n",
      "       'pred_satis_effort6'],\n",
      "      dtype='object')\n"
     ]
    }
   ],
   "source": [
    "perfectionism_rawdata = pd.read_excel('perfectionism_rawdata.xlsx',sheet_name='data')\n",
    "print(perfectionism_rawdata.columns)\n"
   ]
  },
  {
   "cell_type": "markdown",
   "metadata": {},
   "source": [
    "# demographics"
   ]
  },
  {
   "cell_type": "markdown",
   "metadata": {},
   "source": [
    "## sample size"
   ]
  },
  {
   "cell_type": "code",
   "execution_count": 26,
   "metadata": {},
   "outputs": [
    {
     "data": {
      "text/plain": [
       "374"
      ]
     },
     "execution_count": 26,
     "metadata": {},
     "output_type": "execute_result"
    }
   ],
   "source": [
    "# number of subjects\n",
    "len(perfectionism_rawdata)"
   ]
  },
  {
   "cell_type": "markdown",
   "metadata": {},
   "source": [
    "## age"
   ]
  },
  {
   "cell_type": "code",
   "execution_count": 9,
   "metadata": {},
   "outputs": [],
   "source": [
    "import re\n",
    "\n",
    "def age_to_number(age_input: str) -> float:\n",
    "    # Convert input to string if it's not already\n",
    "    if not isinstance(age_input, str):\n",
    "        age_input = str(age_input)\n",
    "\n",
    "    # Extract numbers using regex\n",
    "    numbers = re.findall(r'(\\d+)', age_input)\n",
    "    \n",
    "    # Convert extracted numbers to float\n",
    "    numbers = [float(num) for num in numbers]\n",
    "\n",
    "    # Check if we have a year and month, or just a year\n",
    "    if len(numbers) == 2:\n",
    "        years, months = numbers\n",
    "    elif len(numbers) == 1:\n",
    "        years, months = numbers[0], 0\n",
    "    else:\n",
    "        raise ValueError(\"Invalid age format.\")\n",
    "    \n",
    "    # Convert the age to a decimal number\n",
    "    total_age = years + (months / 12)\n",
    "    \n",
    "    return total_age"
   ]
  },
  {
   "cell_type": "code",
   "execution_count": 10,
   "metadata": {},
   "outputs": [
    {
     "name": "stdout",
     "output_type": "stream",
     "text": [
      "19.0\n"
     ]
    }
   ],
   "source": [
    "text_input = \"19\"\n",
    "print(age_to_number(text_input))"
   ]
  },
  {
   "cell_type": "code",
   "execution_count": 27,
   "metadata": {},
   "outputs": [
    {
     "name": "stdout",
     "output_type": "stream",
     "text": [
      "19.166666666666668\n"
     ]
    }
   ],
   "source": [
    "text_input = perfectionism_rawdata['age'][0]\n",
    "print(age_to_number(text_input))"
   ]
  },
  {
   "cell_type": "code",
   "execution_count": 12,
   "metadata": {},
   "outputs": [
    {
     "name": "stdout",
     "output_type": "stream",
     "text": [
      "19.166666666666668\n"
     ]
    }
   ],
   "source": [
    "text_input = \"19 yrs/2 months\"\n",
    "print(age_to_number(text_input))"
   ]
  },
  {
   "cell_type": "code",
   "execution_count": 13,
   "metadata": {},
   "outputs": [
    {
     "name": "stdout",
     "output_type": "stream",
     "text": [
      "19.166666666666668\n"
     ]
    }
   ],
   "source": [
    "text_input = \"19yrs/2 months\"\n",
    "print(age_to_number(text_input))"
   ]
  },
  {
   "cell_type": "code",
   "execution_count": 28,
   "metadata": {},
   "outputs": [],
   "source": [
    "# age\n",
    "age = np.empty(len(perfectionism_rawdata))\n",
    "for isub in range(len(perfectionism_rawdata)):\n",
    "    #print(isub)\n",
    "    age[isub]=age_to_number(perfectionism_rawdata['age'][isub])\n"
   ]
  },
  {
   "cell_type": "code",
   "execution_count": 29,
   "metadata": {},
   "outputs": [
    {
     "data": {
      "image/png": "[encoded data removed]",
      "text/plain": [
       "<Figure size 432x288 with 1 Axes>"
      ]
     },
     "metadata": {
      "needs_background": "light"
     },
     "output_type": "display_data"
    }
   ],
   "source": [
    "plt.hist(age,bins=80)\n",
    "plt.show()"
   ]
  },
  {
   "cell_type": "code",
   "execution_count": 16,
   "metadata": {},
   "outputs": [
    {
     "ename": "NameError",
     "evalue": "name 'age' is not defined",
     "output_type": "error",
     "traceback": [
      "\u001b[0;31m---------------------------------------------------------------------------\u001b[0m",
      "\u001b[0;31mNameError\u001b[0m                                 Traceback (most recent call last)",
      "\u001b[0;32m<ipython-input-16-c60c2bcd4c21>\u001b[0m in \u001b[0;36m<module>\u001b[0;34m\u001b[0m\n\u001b[0;32m----> 1\u001b[0;31m \u001b[0mnp\u001b[0m\u001b[0;34m.\u001b[0m\u001b[0mmean\u001b[0m\u001b[0;34m(\u001b[0m\u001b[0mage\u001b[0m\u001b[0;34m)\u001b[0m\u001b[0;34m\u001b[0m\u001b[0;34m\u001b[0m\u001b[0m\n\u001b[0m",
      "\u001b[0;31mNameError\u001b[0m: name 'age' is not defined"
     ]
    }
   ],
   "source": [
    "np.mean(age)"
   ]
  },
  {
   "cell_type": "code",
   "execution_count": 30,
   "metadata": {},
   "outputs": [
    {
     "data": {
      "text/plain": [
       "1.8672404051934373"
      ]
     },
     "execution_count": 30,
     "metadata": {},
     "output_type": "execute_result"
    }
   ],
   "source": [
    "np.std(age)"
   ]
  },
  {
   "cell_type": "markdown",
   "metadata": {},
   "source": [
    "## gender"
   ]
  },
  {
   "cell_type": "markdown",
   "metadata": {},
   "source": [
    "114 male, 255 female, 4 non-binary, 1 did not report  "
   ]
  },
  {
   "cell_type": "code",
   "execution_count": 31,
   "metadata": {},
   "outputs": [
    {
     "data": {
      "text/plain": [
       "114"
      ]
     },
     "execution_count": 31,
     "metadata": {},
     "output_type": "execute_result"
    }
   ],
   "source": [
    "len(perfectionism_rawdata[perfectionism_rawdata['gender']==1])"
   ]
  },
  {
   "cell_type": "code",
   "execution_count": 32,
   "metadata": {},
   "outputs": [
    {
     "data": {
      "text/plain": [
       "255"
      ]
     },
     "execution_count": 32,
     "metadata": {},
     "output_type": "execute_result"
    }
   ],
   "source": [
    "len(perfectionism_rawdata[perfectionism_rawdata['gender']==2])"
   ]
  },
  {
   "cell_type": "code",
   "execution_count": 33,
   "metadata": {},
   "outputs": [
    {
     "data": {
      "text/plain": [
       "4"
      ]
     },
     "execution_count": 33,
     "metadata": {},
     "output_type": "execute_result"
    }
   ],
   "source": [
    "len(perfectionism_rawdata[perfectionism_rawdata['gender']==3])"
   ]
  },
  {
   "cell_type": "code",
   "execution_count": 21,
   "metadata": {},
   "outputs": [
    {
     "data": {
      "text/plain": [
       "374"
      ]
     },
     "execution_count": 21,
     "metadata": {},
     "output_type": "execute_result"
    }
   ],
   "source": [
    "114+255+4+1"
   ]
  },
  {
   "cell_type": "markdown",
   "metadata": {},
   "source": [
    "## year in college"
   ]
  },
  {
   "cell_type": "markdown",
   "metadata": {},
   "source": [
    "208 freshmen, 109 Sophomores, 47 juniors and 10 seniors "
   ]
  },
  {
   "cell_type": "code",
   "execution_count": 65,
   "metadata": {},
   "outputs": [
    {
     "data": {
      "text/plain": [
       "208"
      ]
     },
     "execution_count": 65,
     "metadata": {},
     "output_type": "execute_result"
    }
   ],
   "source": [
    "len(perfectionism_rawdata[perfectionism_rawdata['year in college']==1])"
   ]
  },
  {
   "cell_type": "code",
   "execution_count": 66,
   "metadata": {},
   "outputs": [
    {
     "data": {
      "text/plain": [
       "109"
      ]
     },
     "execution_count": 66,
     "metadata": {},
     "output_type": "execute_result"
    }
   ],
   "source": [
    "len(perfectionism_rawdata[perfectionism_rawdata['year in college']==2])"
   ]
  },
  {
   "cell_type": "code",
   "execution_count": 67,
   "metadata": {},
   "outputs": [
    {
     "data": {
      "text/plain": [
       "47"
      ]
     },
     "execution_count": 67,
     "metadata": {},
     "output_type": "execute_result"
    }
   ],
   "source": [
    "len(perfectionism_rawdata[perfectionism_rawdata['year in college']==3])"
   ]
  },
  {
   "cell_type": "code",
   "execution_count": 68,
   "metadata": {},
   "outputs": [
    {
     "data": {
      "text/plain": [
       "10"
      ]
     },
     "execution_count": 68,
     "metadata": {},
     "output_type": "execute_result"
    }
   ],
   "source": [
    "len(perfectionism_rawdata[perfectionism_rawdata['year in college']==4])"
   ]
  },
  {
   "cell_type": "markdown",
   "metadata": {},
   "source": [
    "# model fitting"
   ]
  },
  {
   "cell_type": "code",
   "execution_count": 37,
   "metadata": {},
   "outputs": [
    {
     "data": {
      "image/png": "[encoded data removed]",
      "text/plain": [
       "<Figure size 288x288 with 1 Axes>"
      ]
     },
     "metadata": {
      "needs_background": "light"
     },
     "output_type": "display_data"
    }
   ],
   "source": [
    "data=perfectionism_rawdata\n",
    "data_meanvalue = [np.mean(data['satisfaction_1']), np.mean(data['satisfaction_2']), np.mean(data['satisfaction_3']),np.mean(data['satisfaction_4']),np.mean(data['satisfaction_5']),np.mean(data['satisfaction_6'])]\n",
    "data_SEM = [stats.sem(data['satisfaction_1'],nan_policy='omit'),stats.sem(data['satisfaction_2'],nan_policy='omit'),stats.sem(data['satisfaction_3'],nan_policy='omit'),stats.sem(data['satisfaction_4'],nan_policy='omit'),stats.sem(data['satisfaction_5'],nan_policy='omit'),stats.sem(data['satisfaction_6'],nan_policy='omit')]\n",
    "\n",
    "model_meanvalue = [np.mean(data['pred_satis_effort1']), np.mean(data['pred_satis_effort2']), np.mean(data['pred_satis_effort3']),np.mean(data['pred_satis_effort4']),np.mean(data['pred_satis_effort5']),np.mean(data['pred_satis_effort6'])]\n",
    "model_SEM = [stats.sem(data['pred_satis_effort1'],nan_policy='omit'),stats.sem(data['pred_satis_effort2'],nan_policy='omit'),stats.sem(data['pred_satis_effort3'],nan_policy='omit'),stats.sem(data['pred_satis_effort4'],nan_policy='omit'),stats.sem(data['pred_satis_effort5'],nan_policy='omit'),stats.sem(data['pred_satis_effort6'],nan_policy='omit')]\n",
    "\n",
    "fig, ax = plt.subplots()\n",
    "\n",
    "x_pos = [0,20,40,60,80,100]\n",
    "#x_posoff = [1+offset,2+offset,3+offset,4+offset,5+offset,6+offset,7+offset]\n",
    "\n",
    "ax.errorbar(x_pos,data_meanvalue,data_SEM,capsize = 10,linestyle='none',marker='o',ms=10, label='data',color='k')#,color='#bdd7e7')\n",
    "ax.fill_between(x_pos,np.array(model_meanvalue)-np.array(model_SEM),np.array(model_meanvalue)+np.array(model_SEM),label='model',color='grey')#,color='#fdbe85')\n",
    "ax.plot([0,100],[0,100],'k--')\n",
    "\n",
    "fontsizeN =22;\n",
    "#ax.set_title('complete on the last day',fontsize=fontsizeN)\n",
    "\n",
    "ax.legend(fontsize=20,frameon=False)\n",
    "\n",
    "ax.set_xticks(x_pos)\n",
    "ax.set_xticklabels(['0','20','40','60','80','100'],fontsize=fontsizeN)\n",
    "ax.set_yticks(x_pos)\n",
    "ax.set_yticklabels(['0','20','40','60','80','100'],fontsize=fontsizeN)\n",
    "ax.tick_params(axis='y', labelsize=fontsizeN)\n",
    "ax.set_xlabel('final proportion completed (%)',fontsize=fontsizeN)\n",
    "ax.set_ylabel('satisfaction level',fontsize=fontsizeN)\n",
    "ax.set_ylim([0,110])\n",
    "ax.spines['top'].set_visible(False)\n",
    "ax.spines['right'].set_visible(False)\n",
    "ax.set_aspect('equal', 'box')\n",
    "fig.set_figheight(4)\n",
    "fig.set_figwidth(4)\n",
    "plt.savefig('satisfactionlevel_modelfit.pdf', format='pdf')"
   ]
  },
  {
   "cell_type": "markdown",
   "metadata": {},
   "source": [
    "# histogram of exponent"
   ]
  },
  {
   "cell_type": "code",
   "execution_count": 7,
   "metadata": {},
   "outputs": [
    {
     "data": {
      "text/plain": [
       "0.48590825746319505"
      ]
     },
     "execution_count": 7,
     "metadata": {},
     "output_type": "execute_result"
    }
   ],
   "source": [
    "np.mean(perfectionism_rawdata['log_exponent_fit'])"
   ]
  },
  {
   "cell_type": "code",
   "execution_count": 4,
   "metadata": {},
   "outputs": [
    {
     "data": {
      "text/plain": [
       "0.043150080202984206"
      ]
     },
     "execution_count": 4,
     "metadata": {},
     "output_type": "execute_result"
    }
   ],
   "source": [
    "stats.sem(perfectionism_rawdata['log_exponent_fit'],nan_policy='omit')"
   ]
  },
  {
   "cell_type": "code",
   "execution_count": 9,
   "metadata": {},
   "outputs": [
    {
     "data": {
      "text/plain": [
       "2.7259965653967844"
      ]
     },
     "execution_count": 9,
     "metadata": {},
     "output_type": "execute_result"
    }
   ],
   "source": [
    "np.mean(np.exp(perfectionism_rawdata['log_exponent_fit']))"
   ]
  },
  {
   "cell_type": "code",
   "execution_count": 11,
   "metadata": {},
   "outputs": [
    {
     "data": {
      "text/plain": [
       "0.26893346397155765"
      ]
     },
     "execution_count": 11,
     "metadata": {},
     "output_type": "execute_result"
    }
   ],
   "source": [
    "stats.sem(np.exp(perfectionism_rawdata['log_exponent_fit']),nan_policy='omit')"
   ]
  },
  {
   "cell_type": "code",
   "execution_count": 15,
   "metadata": {},
   "outputs": [
    {
     "data": {
      "image/png": "[encoded data removed]",
      "text/plain": [
       "<Figure size 432x288 with 1 Axes>"
      ]
     },
     "metadata": {
      "needs_background": "light"
     },
     "output_type": "display_data"
    }
   ],
   "source": [
    "plt.hist(perfectionism_rawdata['log_exponent_fit'],bins=100)\n",
    "plt.show()"
   ]
  },
  {
   "cell_type": "markdown",
   "metadata": {},
   "source": [
    "# correlation"
   ]
  },
  {
   "cell_type": "code",
   "execution_count": 101,
   "metadata": {},
   "outputs": [
    {
     "data": {
      "text/html": [
       "<div>\n",
       "<style scoped>\n",
       "    .dataframe tbody tr th:only-of-type {\n",
       "        vertical-align: middle;\n",
       "    }\n",
       "\n",
       "    .dataframe tbody tr th {\n",
       "        vertical-align: top;\n",
       "    }\n",
       "\n",
       "    .dataframe thead th {\n",
       "        text-align: right;\n",
       "    }\n",
       "</style>\n",
       "<table border=\"1\" class=\"dataframe\">\n",
       "  <thead>\n",
       "    <tr style=\"text-align: right;\">\n",
       "      <th></th>\n",
       "      <th>log_exponent_fit</th>\n",
       "      <th>score of scale</th>\n",
       "    </tr>\n",
       "  </thead>\n",
       "  <tbody>\n",
       "    <tr>\n",
       "      <th>log_exponent_fit</th>\n",
       "      <td>-</td>\n",
       "      <td>0.00003</td>\n",
       "    </tr>\n",
       "    <tr>\n",
       "      <th>score of scale</th>\n",
       "      <td>0.21568</td>\n",
       "      <td>-</td>\n",
       "    </tr>\n",
       "  </tbody>\n",
       "</table>\n",
       "</div>"
      ],
      "text/plain": [
       "                 log_exponent_fit score of scale\n",
       "log_exponent_fit                -        0.00003\n",
       "score of scale            0.21568              -"
      ]
     },
     "execution_count": 101,
     "metadata": {},
     "output_type": "execute_result"
    }
   ],
   "source": [
    "perfectionism_rawdata.loc[:,['log_exponent_fit','score of scale']].rcorr(stars=False, decimals=5)\n"
   ]
  },
  {
   "cell_type": "code",
   "execution_count": 35,
   "metadata": {},
   "outputs": [
    {
     "data": {
      "image/png": "[encoded data removed]",
      "text/plain": [
       "<Figure size 432x288 with 1 Axes>"
      ]
     },
     "metadata": {
      "needs_background": "light"
     },
     "output_type": "display_data"
    }
   ],
   "source": [
    "fig, ax = plt.subplots()\n",
    "fontsizeN = 22 # for ticklables\n",
    "sns.regplot(ax=ax,x=\"score of scale\", y=\"log_exponent_fit\", data=perfectionism_rawdata, color='k');\n",
    "ax.set_xlabel('perfectionism scale score',fontsize=22)\n",
    "ax.set_ylabel(r'exponent of power law $\\beta$'+'\\n (natural log-transformed)',fontsize=22)\n",
    "ax.set_yticks([-1,0,1,2,3])\n",
    "ax.set_yticklabels(['-1','0','1','2','3'],fontsize=fontsizeN)\n",
    "ax.set_xticks([30,50,70,90,110])\n",
    "ax.set_xticklabels(['30','50','70','90','110'],fontsize=fontsizeN)\n",
    "#ax[0].text(-8,90,'r=0.282',fontsize=14)\n",
    "#ax[0].text(-8,82,'p=0.009',fontsize=14)\n",
    "ax.spines['top'].set_visible(False)\n",
    "ax.spines['right'].set_visible(False)\n",
    "\n",
    "plt.savefig(\"perfectionism correlation.pdf\", transparent=True)\n",
    "plt.show()"
   ]
  },
  {
   "cell_type": "code",
   "execution_count": 116,
   "metadata": {},
   "outputs": [
    {
     "data": {
      "image/png": "[encoded data removed]",
      "text/plain": [
       "<Figure size 432x288 with 1 Axes>"
      ]
     },
     "metadata": {
      "needs_background": "light"
     },
     "output_type": "display_data"
    }
   ],
   "source": [
    "plt.hist(perfectionism_rawdata['score of scale'])\n",
    "plt.show()"
   ]
  },
  {
   "cell_type": "code",
   "execution_count": 117,
   "metadata": {},
   "outputs": [
    {
     "name": "stderr",
     "output_type": "stream",
     "text": [
      "/opt/anaconda3/lib/python3.7/site-packages/numpy/lib/histograms.py:829: RuntimeWarning: invalid value encountered in greater_equal\n",
      "  keep = (tmp_a >= first_edge)\n",
      "/opt/anaconda3/lib/python3.7/site-packages/numpy/lib/histograms.py:830: RuntimeWarning: invalid value encountered in less_equal\n",
      "  keep &= (tmp_a <= last_edge)\n"
     ]
    },
    {
     "data": {
      "image/png": "[encoded data removed]",
      "text/plain": [
       "<Figure size 432x288 with 1 Axes>"
      ]
     },
     "metadata": {
      "needs_background": "light"
     },
     "output_type": "display_data"
    }
   ],
   "source": [
    "plt.hist(perfectionism_rawdata['log_exponent_fit'])\n",
    "plt.show()"
   ]
  },
  {
   "cell_type": "markdown",
   "metadata": {},
   "source": [
    "# combined figure for paper"
   ]
  },
  {
   "cell_type": "code",
   "execution_count": 39,
   "metadata": {},
   "outputs": [
    {
     "data": {
      "image/png": "[encoded data removed]",
      "text/plain": [
       "<Figure size 1008x288 with 2 Axes>"
      ]
     },
     "metadata": {
      "needs_background": "light"
     },
     "output_type": "display_data"
    }
   ],
   "source": [
    "fig, ax = plt.subplots(1,2,figsize=(14,4))\n",
    "fontsizeN = 22 # for ticklables\n",
    "\n",
    "x_pos = [0,20,40,60,80,100]\n",
    "#x_posoff = [1+offset,2+offset,3+offset,4+offset,5+offset,6+offset,7+offset]\n",
    "\n",
    "ax[0].errorbar(x_pos,data_meanvalue,data_SEM,capsize = 10,linestyle='none',marker='o',ms=10, label='data',color='k')#,color='#bdd7e7')\n",
    "ax[0].fill_between(x_pos,np.array(model_meanvalue)-np.array(model_SEM),np.array(model_meanvalue)+np.array(model_SEM),label='model',color='grey')#,color='#fdbe85')\n",
    "ax[0].plot([0,100],[0,100],'k--')\n",
    "\n",
    "\n",
    "ax[0].legend(fontsize=20,frameon=False)\n",
    "\n",
    "ax[0].set_xticks(x_pos)\n",
    "ax[0].set_xticklabels(['0','20','40','60','80','100'],fontsize=fontsizeN)\n",
    "ax[0].set_yticks(x_pos)\n",
    "ax[0].set_yticklabels(['0','20','40','60','80','100'],fontsize=fontsizeN)\n",
    "ax[0].tick_params(axis='y', labelsize=fontsizeN)\n",
    "ax[0].set_xlabel('final percentage completed (%)',fontsize=fontsizeN)\n",
    "ax[0].set_ylabel('satisfaction level',fontsize=fontsizeN)\n",
    "ax[0].set_ylim([0,110])\n",
    "ax[0].spines['top'].set_visible(False)\n",
    "ax[0].spines['right'].set_visible(False)\n",
    "ax[0].set_aspect('equal', 'box')\n",
    "\n",
    "\n",
    "\n",
    "sns.regplot(ax=ax[1],x=\"score of scale\", y=\"log_exponent_fit\", data=perfectionism_rawdata, color='k');\n",
    "ax[1].set_xlabel('perfectionism scale score',fontsize=22)\n",
    "#ax[1].set_ylabel(r'$\\beta$ perfectionism level'+'\\n (natural log-transformed)',fontsize=22)\n",
    "ax[1].set_ylabel(r'ln$\\beta$',fontsize=22)\n",
    "\n",
    "ax[1].set_yticks([-1,0,1,2,3])\n",
    "ax[1].set_yticklabels(['-1','0','1','2','3'],fontsize=fontsizeN)\n",
    "ax[1].set_xticks([30,50,70,90,110])\n",
    "ax[1].set_xticklabels(['30','50','70','90','110'],fontsize=fontsizeN)\n",
    "#ax[0].text(-8,90,'r=0.282',fontsize=14)\n",
    "#ax[0].text(-8,82,'p=0.009',fontsize=14)\n",
    "ax[1].spines['top'].set_visible(False)\n",
    "ax[1].spines['right'].set_visible(False)\n",
    "\n",
    "plt.savefig(\"empirical_perfectionism.pdf\", transparent=True)\n",
    "plt.show()"
   ]
  },
  {
   "cell_type": "code",
   "execution_count": null,
   "metadata": {},
   "outputs": [],
   "source": []
  }
 ],
 "metadata": {
  "hide_input": false,
  "kernelspec": {
   "display_name": "Python 3",
   "language": "python",
   "name": "python3"
  },
  "language_info": {
   "codemirror_mode": {
    "name": "ipython",
    "version": 3
   },
   "file_extension": ".py",
   "mimetype": "text/x-python",
   "name": "python",
   "nbconvert_exporter": "python",
   "pygments_lexer": "ipython3",
   "version": "3.7.4"
  },
  "toc": {
   "base_numbering": 1,
   "nav_menu": {},
   "number_sections": true,
   "sideBar": true,
   "skip_h1_title": false,
   "title_cell": "Table of Contents",
   "title_sidebar": "Contents",
   "toc_cell": false,
   "toc_position": {},
   "toc_section_display": true,
   "toc_window_display": false
  },
  "varInspector": {
   "cols": {
    "lenName": 16,
    "lenType": 16,
    "lenVar": 40
   },
   "kernels_config": {
    "python": {
     "delete_cmd_postfix": "",
     "delete_cmd_prefix": "del ",
     "library": "var_list.py",
     "varRefreshCmd": "print(var_dic_list())"
    },
    "r": {
     "delete_cmd_postfix": ") ",
     "delete_cmd_prefix": "rm(",
     "library": "var_list.r",
     "varRefreshCmd": "cat(var_dic_list()) "
    }
   },
   "types_to_exclude": [
    "module",
    "function",
    "builtin_function_or_method",
    "instance",
    "_Feature"
   ],
   "window_display": false
  }
 },
 "nbformat": 4,
 "nbformat_minor": 2
}
